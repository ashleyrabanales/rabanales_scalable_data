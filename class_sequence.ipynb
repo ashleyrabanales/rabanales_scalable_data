{
 "cells": [
  {
   "cell_type": "code",
   "execution_count": 1,
   "metadata": {},
   "outputs": [],
   "source": [
    "from pyspark.context import SparkContext\n",
    "from pyspark.sql import SparkSession\n",
    "\n",
    "\n"
   ]
  },
  {
   "cell_type": "code",
   "execution_count": null,
   "metadata": {},
   "outputs": [],
   "source": []
  },
  {
   "cell_type": "code",
   "execution_count": null,
   "metadata": {},
   "outputs": [],
   "source": [
    "#2 ML Pipeline\n",
    "tokenizer = Tokenizer(inputCol = \"text\", outputCol = \"words\")\n",
    "#TF is Term Frequency\n",
    "TF = HashingTF(inputCol = tokenizer, outputCol(), outputCol = \"tfFeatures\")\n",
    "idf = IDF(inputCol = \"tfFeatures\", outputCol = \"Features\")\n",
    "lr = LogisticRegression(maxIter = 10, regParam = 0.001)\n",
    "\n",
    "Pipeline = Pipeline(stages = [tokenizer, TF, idf, lr])\n",
    "Model = Pipeline.fit(training)"
   ]
  }
 ],
 "metadata": {
  "kernelspec": {
   "display_name": "Python 3",
   "language": "python",
   "name": "python3"
  },
  "language_info": {
   "codemirror_mode": {
    "name": "ipython",
    "version": 3
   },
   "file_extension": ".py",
   "mimetype": "text/x-python",
   "name": "python",
   "nbconvert_exporter": "python",
   "pygments_lexer": "ipython3",
   "version": "3.9.6"
  },
  "orig_nbformat": 4,
  "vscode": {
   "interpreter": {
    "hash": "aee8b7b246df8f9039afb4144a1f6fd8d2ca17a180786b69acc140d282b71a49"
   }
  }
 },
 "nbformat": 4,
 "nbformat_minor": 2
}
