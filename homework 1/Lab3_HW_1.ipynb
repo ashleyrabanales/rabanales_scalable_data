{
 "cells": [
  {
   "cell_type": "code",
   "execution_count": 1,
   "metadata": {},
   "outputs": [],
   "source": [
    "import csv "
   ]
  },
  {
   "cell_type": "code",
   "execution_count": 2,
   "metadata": {},
   "outputs": [],
   "source": [
    "#read file\n",
    "with open(\"citibike.csv\",\"r\") as fi:\n",
    "    reader = csv.DictReader(fi)\n",
    "    for row in reader:\n",
    "        birthyear = row[\"birth_year\"]\n",
    "        if birthyear != \"\":\n",
    "            age = 2015-int(birthyear)\n",
    "            print(age)"
   ]
  },
  {
   "cell_type": "code",
   "execution_count": 3,
   "metadata": {},
   "outputs": [],
   "source": [
    "#def generator to iterate teh daata set only once\n",
    "def citibike2gen(filename):\n",
    "    with open(\"citibike.csv\",\"r\") as fi:\n",
    "        reader = csv.DictReader(fi)\n",
    "        for row in reader:\n",
    "            birthyear = row[\"birth_year\"]\n",
    "            if birthyear != \"\":\n",
    "                age = 2015-int(birthyear)\n",
    "                yield age\n",
    "count = {}\n",
    "for age in citibike2gen(\"citibike.csv\"):\n",
    "    count[age] = count.get(age,0)+1"
   ]
  },
  {
   "cell_type": "code",
   "execution_count": 4,
   "metadata": {},
   "outputs": [
    {
     "data": {
      "text/plain": [
       "{37: 1377,\n",
       " 22: 470,\n",
       " 46: 1133,\n",
       " 30: 1673,\n",
       " 58: 449,\n",
       " 36: 1279,\n",
       " 32: 1793,\n",
       " 60: 413,\n",
       " 33: 1455,\n",
       " 27: 1358,\n",
       " 24: 922,\n",
       " 25: 1361,\n",
       " 38: 1122,\n",
       " 47: 1010,\n",
       " 28: 1730,\n",
       " 35: 1509,\n",
       " 55: 771,\n",
       " 29: 1568,\n",
       " 34: 1499,\n",
       " 40: 1071,\n",
       " 42: 1022,\n",
       " 44: 1162,\n",
       " 31: 1714,\n",
       " 20: 256,\n",
       " 21: 392,\n",
       " 49: 863,\n",
       " 43: 1081,\n",
       " 51: 891,\n",
       " 61: 417,\n",
       " 23: 493,\n",
       " 26: 1322,\n",
       " 45: 1347,\n",
       " 54: 618,\n",
       " 41: 1158,\n",
       " 39: 1168,\n",
       " 56: 687,\n",
       " 50: 947,\n",
       " 57: 783,\n",
       " 48: 999,\n",
       " 52: 970,\n",
       " 66: 134,\n",
       " 63: 247,\n",
       " 70: 28,\n",
       " 67: 149,\n",
       " 18: 94,\n",
       " 19: 124,\n",
       " 53: 899,\n",
       " 65: 150,\n",
       " 71: 59,\n",
       " 62: 346,\n",
       " 59: 488,\n",
       " 64: 229,\n",
       " 74: 39,\n",
       " 77: 24,\n",
       " 81: 8,\n",
       " 68: 74,\n",
       " 73: 61,\n",
       " 75: 21,\n",
       " 72: 18,\n",
       " 69: 93,\n",
       " 17: 59,\n",
       " 115: 22,\n",
       " 16: 17,\n",
       " 80: 9,\n",
       " 76: 4,\n",
       " 105: 2,\n",
       " 89: 1,\n",
       " 86: 1,\n",
       " 114: 1,\n",
       " 93: 4}"
      ]
     },
     "execution_count": 4,
     "metadata": {},
     "output_type": "execute_result"
    }
   ],
   "source": [
    "count"
   ]
  },
  {
   "cell_type": "code",
   "execution_count": 5,
   "metadata": {},
   "outputs": [
    {
     "name": "stdout",
     "output_type": "stream",
     "text": [
      "2015-02-01 00:00:00+00:00\n",
      "6 0\n"
     ]
    }
   ],
   "source": [
    "import dateutil\n",
    "with open(\"citibike.csv\",\"r\") as fi:\n",
    "    reader = csv.DictReader(fi)\n",
    "    for row in reader:\n",
    "        starttime = dateutil.parser.parse(row[\"starttime\"])\n",
    "        if starttime != \"\":\n",
    "            print(starttime)\n",
    "            print(starttime.weekday(),starttime.hour)\n",
    "            break"
   ]
  },
  {
   "cell_type": "code",
   "execution_count": 6,
   "metadata": {},
   "outputs": [],
   "source": [
    "#def generator to iterate teh daata set only once\n",
    "def citibike2gen(filename):\n",
    "    with open(\"citibike.csv\",\"r\") as fi:\n",
    "        reader = csv.DictReader(fi)\n",
    "        for row in reader:\n",
    "            starttime = dateutil.parser.parse(row[\"starttime\"])\n",
    "            if starttime != \"\":\n",
    "                yield starttime.hour\n",
    "count = {}\n",
    "for each_hour in citibike2gen(\"citibike.csv\"):\n",
    "    count[each_hour] = count.get(each_hour,0)+1"
   ]
  },
  {
   "cell_type": "code",
   "execution_count": 7,
   "metadata": {},
   "outputs": [
    {
     "data": {
      "text/plain": [
       "{0: 401,\n",
       " 1: 248,\n",
       " 2: 117,\n",
       " 3: 89,\n",
       " 4: 89,\n",
       " 5: 293,\n",
       " 6: 988,\n",
       " 7: 2037,\n",
       " 8: 3668,\n",
       " 9: 3108,\n",
       " 10: 2241,\n",
       " 11: 2090,\n",
       " 12: 2289,\n",
       " 13: 2443,\n",
       " 14: 2685,\n",
       " 15: 2856,\n",
       " 16: 3471,\n",
       " 17: 4788,\n",
       " 18: 4270,\n",
       " 19: 2839,\n",
       " 20: 1844,\n",
       " 21: 1343,\n",
       " 22: 1192,\n",
       " 23: 811}"
      ]
     },
     "execution_count": 7,
     "metadata": {},
     "output_type": "execute_result"
    }
   ],
   "source": [
    "count"
   ]
  },
  {
   "cell_type": "code",
   "execution_count": 8,
   "metadata": {},
   "outputs": [
    {
     "data": {
      "text/html": [
       "<div>\n",
       "<style scoped>\n",
       "    .dataframe tbody tr th:only-of-type {\n",
       "        vertical-align: middle;\n",
       "    }\n",
       "\n",
       "    .dataframe tbody tr th {\n",
       "        vertical-align: top;\n",
       "    }\n",
       "\n",
       "    .dataframe thead th {\n",
       "        text-align: right;\n",
       "    }\n",
       "</style>\n",
       "<table border=\"1\" class=\"dataframe\">\n",
       "  <thead>\n",
       "    <tr style=\"text-align: right;\">\n",
       "      <th></th>\n",
       "      <th>size</th>\n",
       "      <th>count</th>\n",
       "    </tr>\n",
       "  </thead>\n",
       "  <tbody>\n",
       "    <tr>\n",
       "      <td>0</td>\n",
       "      <td>0</td>\n",
       "      <td>401</td>\n",
       "    </tr>\n",
       "    <tr>\n",
       "      <td>1</td>\n",
       "      <td>1</td>\n",
       "      <td>248</td>\n",
       "    </tr>\n",
       "    <tr>\n",
       "      <td>2</td>\n",
       "      <td>2</td>\n",
       "      <td>117</td>\n",
       "    </tr>\n",
       "    <tr>\n",
       "      <td>3</td>\n",
       "      <td>3</td>\n",
       "      <td>89</td>\n",
       "    </tr>\n",
       "    <tr>\n",
       "      <td>4</td>\n",
       "      <td>4</td>\n",
       "      <td>89</td>\n",
       "    </tr>\n",
       "    <tr>\n",
       "      <td>5</td>\n",
       "      <td>5</td>\n",
       "      <td>293</td>\n",
       "    </tr>\n",
       "    <tr>\n",
       "      <td>6</td>\n",
       "      <td>6</td>\n",
       "      <td>988</td>\n",
       "    </tr>\n",
       "    <tr>\n",
       "      <td>7</td>\n",
       "      <td>7</td>\n",
       "      <td>2037</td>\n",
       "    </tr>\n",
       "    <tr>\n",
       "      <td>8</td>\n",
       "      <td>8</td>\n",
       "      <td>3668</td>\n",
       "    </tr>\n",
       "    <tr>\n",
       "      <td>9</td>\n",
       "      <td>9</td>\n",
       "      <td>3108</td>\n",
       "    </tr>\n",
       "    <tr>\n",
       "      <td>10</td>\n",
       "      <td>10</td>\n",
       "      <td>2241</td>\n",
       "    </tr>\n",
       "    <tr>\n",
       "      <td>11</td>\n",
       "      <td>11</td>\n",
       "      <td>2090</td>\n",
       "    </tr>\n",
       "    <tr>\n",
       "      <td>12</td>\n",
       "      <td>12</td>\n",
       "      <td>2289</td>\n",
       "    </tr>\n",
       "    <tr>\n",
       "      <td>13</td>\n",
       "      <td>13</td>\n",
       "      <td>2443</td>\n",
       "    </tr>\n",
       "    <tr>\n",
       "      <td>14</td>\n",
       "      <td>14</td>\n",
       "      <td>2685</td>\n",
       "    </tr>\n",
       "    <tr>\n",
       "      <td>15</td>\n",
       "      <td>15</td>\n",
       "      <td>2856</td>\n",
       "    </tr>\n",
       "    <tr>\n",
       "      <td>16</td>\n",
       "      <td>16</td>\n",
       "      <td>3471</td>\n",
       "    </tr>\n",
       "    <tr>\n",
       "      <td>17</td>\n",
       "      <td>17</td>\n",
       "      <td>4788</td>\n",
       "    </tr>\n",
       "    <tr>\n",
       "      <td>18</td>\n",
       "      <td>18</td>\n",
       "      <td>4270</td>\n",
       "    </tr>\n",
       "    <tr>\n",
       "      <td>19</td>\n",
       "      <td>19</td>\n",
       "      <td>2839</td>\n",
       "    </tr>\n",
       "    <tr>\n",
       "      <td>20</td>\n",
       "      <td>20</td>\n",
       "      <td>1844</td>\n",
       "    </tr>\n",
       "    <tr>\n",
       "      <td>21</td>\n",
       "      <td>21</td>\n",
       "      <td>1343</td>\n",
       "    </tr>\n",
       "    <tr>\n",
       "      <td>22</td>\n",
       "      <td>22</td>\n",
       "      <td>1192</td>\n",
       "    </tr>\n",
       "    <tr>\n",
       "      <td>23</td>\n",
       "      <td>23</td>\n",
       "      <td>811</td>\n",
       "    </tr>\n",
       "  </tbody>\n",
       "</table>\n",
       "</div>"
      ],
      "text/plain": [
       "    size  count\n",
       "0      0    401\n",
       "1      1    248\n",
       "2      2    117\n",
       "3      3     89\n",
       "4      4     89\n",
       "5      5    293\n",
       "6      6    988\n",
       "7      7   2037\n",
       "8      8   3668\n",
       "9      9   3108\n",
       "10    10   2241\n",
       "11    11   2090\n",
       "12    12   2289\n",
       "13    13   2443\n",
       "14    14   2685\n",
       "15    15   2856\n",
       "16    16   3471\n",
       "17    17   4788\n",
       "18    18   4270\n",
       "19    19   2839\n",
       "20    20   1844\n",
       "21    21   1343\n",
       "22    22   1192\n",
       "23    23    811"
      ]
     },
     "execution_count": 8,
     "metadata": {},
     "output_type": "execute_result"
    }
   ],
   "source": [
    "import pandas as pd\n",
    "data = {\"size\": count.keys(),\"count\":count.values()}\n",
    "df = pd.DataFrame.from_dict(data,orient=\"index\")\n",
    "df=df.transpose()\n",
    "df"
   ]
  },
  {
   "cell_type": "code",
   "execution_count": 9,
   "metadata": {},
   "outputs": [
    {
     "data": {
      "image/png": "[encoded data removed]",
      "text/plain": [
       "<Figure size 432x288 with 1 Axes>"
      ]
     },
     "metadata": {
      "needs_background": "light"
     },
     "output_type": "display_data"
    }
   ],
   "source": [
    "import pandas as pd\n",
    "%matplotlib inline\n",
    "import matplotlib.pyplot as plt\n",
    "import seaborn as sns\n",
    "\n",
    "ax = sns.barplot(x = \"size\",y=\"count\",data = df, ci = None)"
   ]
  },
  {
   "cell_type": "code",
   "execution_count": null,
   "metadata": {
    "scrolled": false
   },
   "outputs": [],
   "source": [
    "#HW1 2.A\n",
    "\n",
    "import pandas as pd\n",
    "from functools import reduce\n",
    "import math\n",
    "import numpy as np\n",
    "\n",
    "df = pd.read_csv(\"citibike.csv\")\n",
    "rows = df.values.tolist()\n",
    "\n",
    "gender = map(lambda x:x[16],rows)\n",
    "pairs = map(lambda x: (int(x==1),int(x==2)),gender)\n",
    "print(list(pairs))\n",
    "#reduce(lambda(x,y: x value [0] plus y value [0], x value 1 plus y value [1], list(pairs)))"
   ]
  },
  {
   "cell_type": "code",
   "execution_count": null,
   "metadata": {},
   "outputs": [],
   "source": [
    "k1_v1 = [(,\"MapReduce is a programming model and an associated implementation for processing and generating big data sets with a parallel, distributed algorithm on a cluster.[1][2][3]\")\n",
    "(,\"A MapReduce program is composed of a map procedure, which performs filtering and sorting (such as sorting students by first name into queues, one queue for each name), and a reduce method, which performs a summary operation (such as counting the number of students in each queue, yielding name frequencies\"). \n",
    "(,\"The MapReduce System (also called infrastructure or framework) orchestrates the processing by marshalling the distributed servers, running the various tasks in parallel, managing all communications and data transfers between the various parts of the system, and providing for redundancy and fault tolerance.\")\n",
    "]\n",
    "\n",
    "k2_v2 = [(\"MapReduce\",1)\n",
    "(\"is\",1)\n",
    "(\"a\",1)\n",
    "...\n",
    "(\"MapReduce\",1)\n",
    "(\"programe\",1)\n",
    "(\"is\",1)\n",
    "...\n",
    "...\n",
    "..\n",
    "(\"MapReduce\",1)\n",
    "...\n",
    "...\n",
    "...\n",
    "]\n",
    "\n",
    "k2_v2_shuffled = [(\"MapReduce\",[1,1,1])\n",
    "(\"is\",[1,1])\n",
    "(\"a\",[1])\n",
    "...\n",
    "(\"programe\",[1])\n",
    "...\n",
    "...\n",
    "...\n",
    "]\n",
    "\n",
    "k3_v3 = [(\"MapReduce\",3)\n",
    "(\"is\",3)\n",
    "(\"a\",1)\n",
    "...\n",
    "(\"programe\",1)\n",
    "...\n",
    "...\n",
    "...\n",
    "]"
   ]
  },
  {
   "cell_type": "code",
   "execution_count": 1,
   "metadata": {},
   "outputs": [
    {
     "data": {
      "text/plain": [
       "3"
      ]
     },
     "execution_count": 1,
     "metadata": {},
     "output_type": "execute_result"
    }
   ],
   "source": [
    "from functools import reduce\n",
    "reduce(lambda x,y:x+y,[1,1,1])"
   ]
  },
  {
   "cell_type": "code",
   "execution_count": 11,
   "metadata": {},
   "outputs": [
    {
     "name": "stdout",
     "output_type": "stream",
     "text": [
      "[('Hello', 1), ('World', 1), ('Hello', 1), ('Python', 1)]\n"
     ]
    }
   ],
   "source": [
    "\n",
    "def k1v1_transform_k2v2(y):\n",
    "    return(y[1],1)\n",
    "\n",
    "k1v1 = [(1,\"Hello\"),(2,\"World\"),(3,\"Hello\"),(4,\"Python\")]\n",
    "k2v2 = map(k1v1_transform_k2v2,k1v1)\n",
    "\n",
    "print(list(k2v2))"
   ]
  },
  {
   "cell_type": "code",
   "execution_count": 12,
   "metadata": {},
   "outputs": [
    {
     "data": {
      "text/plain": [
       "[('Hello', 2), ('World', 1), ('Python', 1)]"
      ]
     },
     "execution_count": 12,
     "metadata": {},
     "output_type": "execute_result"
    }
   ],
   "source": [
    "#python map/reduce != PySpark map/reduceByKey\n",
    "\n",
    "[(\"Hello\",2), (\"World\",1),(\"Python\",1)]"
   ]
  },
  {
   "cell_type": "code",
   "execution_count": null,
   "metadata": {},
   "outputs": [],
   "source": []
  }
 ],
 "metadata": {
  "kernelspec": {
   "display_name": "Python 3",
   "language": "python",
   "name": "python3"
  },
  "language_info": {
   "codemirror_mode": {
    "name": "ipython",
    "version": 3
   },
   "file_extension": ".py",
   "mimetype": "text/x-python",
   "name": "python",
   "nbconvert_exporter": "python",
   "pygments_lexer": "ipython3",
   "version": "3.7.4"
  }
 },
 "nbformat": 4,
 "nbformat_minor": 2
}
