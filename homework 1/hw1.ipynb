{
 "cells": [
  {
   "cell_type": "code",
   "execution_count": 33,
   "metadata": {},
   "outputs": [],
   "source": [
    "import csv\n",
    "import pandas as pd\n",
    "from functools import reduce\n",
    "import math\n",
    "import numpy as np"
   ]
  },
  {
   "cell_type": "code",
   "execution_count": null,
   "metadata": {},
   "outputs": [],
   "source": [
    "#read file\n",
    "with open(\"citibike.csv\",\"r\") as fi:\n",
    "    reader = csv.DictReader(fi)\n",
    "    for row in reader:\n",
    "        birthyear = row[\"birth_year\"]\n",
    "        if birthyear != \"\":\n",
    "            age = 2015-int(birthyear)\n",
    "            print(median(age))"
   ]
  },
  {
   "cell_type": "code",
   "execution_count": null,
   "metadata": {},
   "outputs": [],
   "source": [
    "#def generator to iterate teh data set only once\n",
    "def citibike2gen(filename):\n",
    "    with open(\"citibike.csv\",\"r\") as fi:\n",
    "        reader = csv.DictReader(fi)\n",
    "        for row in reader:\n",
    "            birthyear = row[\"birth_year\"]\n",
    "            if birthyear != \"\":\n",
    "                age = 2015-int(birthyear)\n",
    "                yield age #using yield  it returns a generator object, which can be \n",
    "                        #used to iterate over the values produced by the generator function.\n",
    "count = {}\n",
    "for age in citibike2gen(\"citibike.csv\"):\n",
    "    [age] = count.get(age,0)+1"
   ]
  },
  {
   "cell_type": "code",
   "execution_count": null,
   "metadata": {},
   "outputs": [],
   "source": [
    "def citibike2gen(filename):\n",
    "    with open(\"citibike.csv\",\"r\") as fi:\n",
    "        reader = csv.DictReader(fi)\n",
    "        for row in reader:\n",
    "            \n",
    "    #for number in numbers:\n",
    "    #    yield number * number\n",
    "\n",
    "# Create a generator object from the squares generator function\n",
    "gen = squares([1, 2, 3, 4, 5])\n",
    "\n",
    "# Iterate over the generator object\n",
    "for square in gen:\n",
    "    print(square)\n"
   ]
  },
  {
   "cell_type": "code",
   "execution_count": 30,
   "metadata": {},
   "outputs": [
    {
     "name": "stdout",
     "output_type": "stream",
     "text": [
      "[37805, 7848]\n"
     ]
    }
   ],
   "source": [
    "#2.A\n",
    "import pandas as pd\n",
    "from functools import reduce\n",
    "import math\n",
    "import numpy as np\n",
    "\n",
    "df = pd.read_csv(\"citibike.csv\")\n",
    "rows = df.values.tolist()\n",
    "\n",
    "gender = map(lambda x:x[16],rows)\n",
    "pairs = map(lambda x: (int(x==1),int(x==2)),gender)\n",
    "result = [sum(x) for x in zip(*pairs)]\n",
    "print (list(result))\n",
    "\n",
    "#reduce(lambda(x,y: x value [0] plus y value [0], x value 1 plus y value [1], list(pairs)))\n",
    "#sum??"
   ]
  },
  {
   "cell_type": "code",
   "execution_count": null,
   "metadata": {},
   "outputs": [],
   "source": [
    "#2.B\n"
   ]
  },
  {
   "cell_type": "code",
   "execution_count": null,
   "metadata": {},
   "outputs": [],
   "source": [
    "#2.b"
   ]
  }
 ],
 "metadata": {
  "kernelspec": {
   "display_name": "Python 3",
   "language": "python",
   "name": "python3"
  },
  "language_info": {
   "codemirror_mode": {
    "name": "ipython",
    "version": 3
   },
   "file_extension": ".py",
   "mimetype": "text/x-python",
   "name": "python",
   "nbconvert_exporter": "python",
   "pygments_lexer": "ipython3",
   "version": "3.9.6"
  },
  "orig_nbformat": 4,
  "vscode": {
   "interpreter": {
    "hash": "aee8b7b246df8f9039afb4144a1f6fd8d2ca17a180786b69acc140d282b71a49"
   }
  }
 },
 "nbformat": 4,
 "nbformat_minor": 2
}
