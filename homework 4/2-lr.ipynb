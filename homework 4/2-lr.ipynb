{
 "cells": [
  {
   "cell_type": "code",
   "execution_count": 3,
   "metadata": {},
   "outputs": [
    {
     "name": "stdout",
     "output_type": "stream",
     "text": [
      "23/04/09 23:07:02 WARN Utils: Your hostname, Ashleys-MacBook-Pro.local resolves to a loopback address: 127.0.0.1; using 10.0.0.149 instead (on interface en0)\n",
      "23/04/09 23:07:02 WARN Utils: Set SPARK_LOCAL_IP if you need to bind to another address\n"
     ]
    },
    {
     "name": "stderr",
     "output_type": "stream",
     "text": [
      "Setting default log level to \"WARN\".\n",
      "To adjust logging level use sc.setLogLevel(newLevel). For SparkR, use setLogLevel(newLevel).\n"
     ]
    },
    {
     "name": "stdout",
     "output_type": "stream",
     "text": [
      "23/04/09 23:07:03 WARN NativeCodeLoader: Unable to load native-hadoop library for your platform... using builtin-java classes where applicable\n"
     ]
    }
   ],
   "source": [
    "from pyspark.context import SparkContext\n",
    "from pyspark.sql.session import SparkSession\n",
    "from pyspark.ml.feature import Tokenizer, HashingTF, IDF \n",
    "from pyspark.ml.classification import LogisticRegression\n",
    "from pyspark.ml import Pipeline\n",
    "from pyspark.sql.functions import col\n",
    "\n",
    "\n",
    "sc = SparkContext(\"local[*]\")\n",
    "spark = SparkSession(sc)\n"
   ]
  },
  {
   "cell_type": "code",
   "execution_count": 4,
   "metadata": {},
   "outputs": [
    {
     "name": "stdout",
     "output_type": "stream",
     "text": [
      "root\n",
      " |-- review_id: string (nullable = true)\n",
      " |-- user_id: string (nullable = true)\n",
      " |-- business_id: string (nullable = true)\n",
      " |-- stars: string (nullable = true)\n",
      " |-- date: string (nullable = true)\n",
      " |-- text: string (nullable = true)\n",
      " |-- useful: string (nullable = true)\n",
      " |-- funny: string (nullable = true)\n",
      " |-- cool: string (nullable = true)\n",
      "\n",
      "+--------------------+--------------------+--------------------+-----+----------+--------------------+------+-----+----+\n",
      "|           review_id|             user_id|         business_id|stars|      date|                text|useful|funny|cool|\n",
      "+--------------------+--------------------+--------------------+-----+----------+--------------------+------+-----+----+\n",
      "|vkVSCC7xljjrAI4UG...|bv2nCi5Qv5vroFiqK...|AEx2SYEUJmTxVVB18...|    5|2016-05-28|Super simple plac...|  null| null|null|\n",
      "|Staff was very he...|                   0|                   0|    0|      null|                null|  null| null|null|\n",
      "|n6QzIUObkYshz4dz2...|bv2nCi5Qv5vroFiqK...|VR6GpWIda3SfvPC-l...|    5|2016-05-28|Small unassuming ...|  null| null|null|\n",
      "|We had their beef...|                null|                null| null|      null|                null|  null| null|null|\n",
      "|A bit outside of ...|                   0|                   0|    0|      null|                null|  null| null|null|\n",
      "|MV3CcKScW05u5LVfF...|bv2nCi5Qv5vroFiqK...|CKC0-MOWMqoeWf6s-...|    5|2016-05-28|Lester's is locat...|  null| null|null|\n",
      "|The smoked meat i...|                   0|                   0|    0|      null|                null|  null| null|null|\n",
      "|IXvOzsEMYtiJI0CAR...|bv2nCi5Qv5vroFiqK...|ACFtxLv8pGrrxMm6E...|    4|2016-05-28|Love coming here....|  null| null|null|\n",
      "|The food speaks f...| so good. Burgers...| the regular is a...| null|      null|                null|  null| null|null|\n",
      "|Getting the Cajun...|                   0|                   0|    0|      null|                null|  null| null|null|\n",
      "|L_9BTb55X0GDtThi6...|bv2nCi5Qv5vroFiqK...|s2I_Ni76bjJNK9yG6...|    4|2016-05-28|Had their chocola...|  null| null|null|\n",
      "|If you're looking...|                   0|                   0|    0|      null|                null|  null| null|null|\n",
      "|HRPm3vEZ_F-33TYVT...|_4iMDXbXZ1p1ONG29...|8QWPlVQ6D-OExqXoa...|    5|2014-09-24|Cycle Pub Las Veg...|     1|    0|   0|\n",
      "|ymAUG8DZfQcFTBSOi...|u0LXt3Uea_GidxRW1...|9_CGhHMz8698M9-Pk...|    4|2012-05-11|Who would have gu...|  null| null|null|\n",
      "|Not quite the sam...| this is the next...|                null| null|      null|                null|  null| null|null|\n",
      "|So far the only i...| chicken & vegeta...|                null| null|      null|                null|  null| null|null|\n",
      "| Next time I go back| I'm going to try...|                   0|    0|         2|                null|  null| null|null|\n",
      "|8UIishPUD92hXtScS...|u0LXt3Uea_GidxRW1...|gkCorLgPyQLsptTHa...|    4|2015-10-27|Always drove past...|  null| null|null|\n",
      "|                Cute| quaint coffee sh...|                null| null|      null|                null|  null| null|null|\n",
      "|BF ordered an ice...|                   1|                   0|    0|      null|                null|  null| null|null|\n",
      "+--------------------+--------------------+--------------------+-----+----------+--------------------+------+-----+----+\n",
      "only showing top 20 rows\n",
      "\n",
      "+--------------------+--------------------+--------------------+-----+----------+--------------------+--------------------+--------------------+--------------------+-----+\n",
      "|           review_id|             user_id|         business_id|stars|      date|                text|              useful|               funny|                cool|label|\n",
      "+--------------------+--------------------+--------------------+-----+----------+--------------------+--------------------+--------------------+--------------------+-----+\n",
      "|HRPm3vEZ_F-33TYVT...|_4iMDXbXZ1p1ONG29...|8QWPlVQ6D-OExqXoa...|    5|2014-09-24|Cycle Pub Las Veg...|                   1|                   0|                   0|  5.0|\n",
      "|Ia-w-nR1FrlzsiuEi...|u0LXt3Uea_GidxRW1...|Eox_Qq74oaFZ-Yjth...|    3|2011-07-18|Service is really...|                   1|                   1|                   1|  3.0|\n",
      "|hkyyWaX-EMiIkvyu1...|nsOf58RZjMTn8V94E...|djyIZW8gVNWby8wau...|    5|2017-08-23|Suzanne was able ...|                   0|                   0|                   0|  5.0|\n",
      "|BF0ANB54sc_f-3_ho...|ssuXFjkH4neiBgwv-...|JlNeaOymdVbE6_bub...|    1|2014-08-09|We always go to t...|                   3|                   0|                   0|  1.0|\n",
      "|DbLUpPT61ykLTakkn...|ssuXFjkH4neiBgwv-...|0Rni7ocMC_Lg2UH0l...|    1|2014-08-09|This place is alw...|                   6|                   0|                   0|  1.0|\n",
      "|40sWchjx-4rQ273cb...|ssuXFjkH4neiBgwv-...|3uBrRcIhbhed1xftL...|    1|2015-08-23|Horrible customer...|                   5|                   0|                   0|  1.0|\n",
      "|UXmBQNWMD1PBLDC_n...|xJbxpra6iyCsph35P...|0g7Pr8OWl_t_7DUeY...|    1|2014-02-03|I bought a groupo...|                   1|                   3|                   0|  1.0|\n",
      "|QYw2OurOBplkQRCpY...|nOTl4aPC4tKHK35T3...|XCxxPZ3Lu5mwmIo7I...|    4|2016-01-24|This place is alw...|                   0|                   0|                   0|  4.0|\n",
      "|udzzB55YAxWEfVmkc...|nOTl4aPC4tKHK35T3...|VTs4f6LnUMHD4ysOe...|    4|2012-07-08|Sometimes it feel...|                   1|                   0|                   0|  4.0|\n",
      "|raUmEc0rdycXSRwXS...|nOTl4aPC4tKHK35T3...|g-OTq2Jb7FRP7cYDU...|    3|2012-04-15|I have since swit...|                   3|                   1|                   0|  3.0|\n",
      "|cd5K0jPd7Gv29x_h1...|nOTl4aPC4tKHK35T3...|pOvTYClFgMm-wAXPW...|    2|2016-05-22|I have eaten at s...|                   1|                   0|                   0|  2.0|\n",
      "|PRj0OFgJjN5ljpeDs...|nOTl4aPC4tKHK35T3...|6Q7-wkCPc1KF75jZL...|    2|2012-08-22|\"Okay, so from wh...|          NOT Circus| Circus Manor Mot...| such as internet...|  2.0|\n",
      "|f17tpJXCwTE0M137d...|nOTl4aPC4tKHK35T3...|zgQHtqX0gqMw1nlBZ...|    2|2013-10-19|\"While I really e...|   greasy appetizers| this is the righ...| I can't stress e...|  2.0|\n",
      "|-FV47bShEgvxQCoh9...|nOTl4aPC4tKHK35T3...|bKh66jlEqEKZZFkjW...|    4|2015-09-21|\"Came here with m...| covered with fru...| which is your ba...|               toast|  4.0|\n",
      "|iJ5iOBh7bMKMtF9j-...|nOTl4aPC4tKHK35T3...|GNEjlH_KssnJVRtqV...|    4|2011-12-20|\"Our friends got ...| which I found to...| although other p...| but I can't reme...|  4.0|\n",
      "|iX6GLmUf6W81zGaiZ...|nOTl4aPC4tKHK35T3...|L6R2Op88NkoG1EGxl...|    4|2014-10-17|A little on the p...|                   0|                   0|                   0|  4.0|\n",
      "|iPqFD9u2K2KRK99tc...|nOTl4aPC4tKHK35T3...|h0TKP2PK0QaAqvqdI...|    4|2015-02-07|\"Went here with m...| for such a small...|               clean| etc. Only proble...|  4.0|\n",
      "|S0zj-QZbrbPmfBxpN...|nOTl4aPC4tKHK35T3...|lFPNibSaYC3Vq4PCG...|    3|2011-04-03|This is a newer l...|                   0|                   0|                   0|  3.0|\n",
      "|Nr4t4NobdlKx9HLMl...|nOTl4aPC4tKHK35T3...|qOuoI7hvzBAzF1Y43...|    4|2016-12-18|Been here twice n...|                   0|                   0|                   0|  4.0|\n",
      "|TaZPNqRUwK47VDE17...|nOTl4aPC4tKHK35T3...|5N8R7ALESZ30EoAzV...|    5|2016-10-17|Went in on a whim...|                   0|                   0|                   0|  5.0|\n",
      "+--------------------+--------------------+--------------------+-----+----------+--------------------+--------------------+--------------------+--------------------+-----+\n",
      "only showing top 20 rows\n",
      "\n",
      "root\n",
      " |-- review_id: string (nullable = true)\n",
      " |-- user_id: string (nullable = true)\n",
      " |-- business_id: string (nullable = true)\n",
      " |-- stars: string (nullable = true)\n",
      " |-- date: string (nullable = true)\n",
      " |-- text: string (nullable = true)\n",
      " |-- useful: string (nullable = true)\n",
      " |-- funny: string (nullable = true)\n",
      " |-- cool: string (nullable = true)\n",
      " |-- label: double (nullable = true)\n",
      "\n",
      "+--------------------+-----+\n",
      "|                text|label|\n",
      "+--------------------+-----+\n",
      "|Cycle Pub Las Veg...|  5.0|\n",
      "|Service is really...|  3.0|\n",
      "|Suzanne was able ...|  5.0|\n",
      "|We always go to t...|  1.0|\n",
      "|This place is alw...|  1.0|\n",
      "|Horrible customer...|  1.0|\n",
      "|I bought a groupo...|  1.0|\n",
      "|This place is alw...|  4.0|\n",
      "|Sometimes it feel...|  4.0|\n",
      "|I have since swit...|  3.0|\n",
      "|I have eaten at s...|  2.0|\n",
      "|\"Okay, so from wh...|  2.0|\n",
      "|\"While I really e...|  2.0|\n",
      "|\"Came here with m...|  4.0|\n",
      "|\"Our friends got ...|  4.0|\n",
      "|A little on the p...|  4.0|\n",
      "|\"Went here with m...|  4.0|\n",
      "|This is a newer l...|  3.0|\n",
      "|Been here twice n...|  4.0|\n",
      "|Went in on a whim...|  5.0|\n",
      "+--------------------+-----+\n",
      "only showing top 20 rows\n",
      "\n",
      "+--------------------+-----+\n",
      "|                text|label|\n",
      "+--------------------+-----+\n",
      "|This place is alw...|  4.0|\n",
      "|Sometimes it feel...|  4.0|\n",
      "|I have eaten at s...|  2.0|\n",
      "|\"Okay, so from wh...|  2.0|\n",
      "|\"While I really e...|  2.0|\n",
      "|\"Came here with m...|  4.0|\n",
      "|\"Our friends got ...|  4.0|\n",
      "|A little on the p...|  4.0|\n",
      "|\"Went here with m...|  4.0|\n",
      "|Been here twice n...|  4.0|\n",
      "|We stopped in her...|  4.0|\n",
      "|I often stop here...|  4.0|\n",
      "|Not much here oth...|  4.0|\n",
      "|I hiked this cany...|  4.0|\n",
      "|Holy portion size...|  4.0|\n",
      "|Flavor was actual...|  4.0|\n",
      "|I don't do ice cr...|  4.0|\n",
      "|I ate here with a...|  4.0|\n",
      "|As a vegetarian, ...|  2.0|\n",
      "|\"The only downsid...|  4.0|\n",
      "+--------------------+-----+\n",
      "only showing top 20 rows\n",
      "\n"
     ]
    },
    {
     "name": "stderr",
     "output_type": "stream",
     "text": [
      "[Stage 5:=======================================================> (28 + 1) / 29]\r"
     ]
    },
    {
     "name": "stdout",
     "output_type": "stream",
     "text": [
      "+--------------------+-----+\n",
      "|                text|label|\n",
      "+--------------------+-----+\n",
      "|This place is alw...|  4.0|\n",
      "|Sometimes it feel...|  4.0|\n",
      "|I have eaten at s...|  2.0|\n",
      "|\"Okay, so from wh...|  2.0|\n",
      "|\"While I really e...|  2.0|\n",
      "|\"Came here with m...|  4.0|\n",
      "|\"Our friends got ...|  4.0|\n",
      "|A little on the p...|  4.0|\n",
      "|\"Went here with m...|  4.0|\n",
      "|Been here twice n...|  4.0|\n",
      "|We stopped in her...|  4.0|\n",
      "|I often stop here...|  4.0|\n",
      "|Not much here oth...|  4.0|\n",
      "|I hiked this cany...|  4.0|\n",
      "|Holy portion size...|  4.0|\n",
      "|Flavor was actual...|  4.0|\n",
      "|I don't do ice cr...|  4.0|\n",
      "|I ate here with a...|  4.0|\n",
      "|As a vegetarian, ...|  2.0|\n",
      "|\"The only downsid...|  4.0|\n",
      "+--------------------+-----+\n",
      "only showing top 20 rows\n",
      "\n"
     ]
    },
    {
     "name": "stderr",
     "output_type": "stream",
     "text": [
      "                                                                                \r"
     ]
    }
   ],
   "source": [
    "#1. Clean the dataset\n",
    "\n",
    "df = spark.read.csv( \"/Users/ashleyrabanales/rabanales_scalable_data/yelp-dataset/yelp_review.csv\", header=True)\n",
    "df.printSchema()\n",
    "df.show()\n",
    "#df = df.withColumnRenamed(\"stars\", \"label\")\n",
    "df = df.withColumn(\"label\", df[\"stars\"].cast(\"double\"))\n",
    "#df = df.where(col(\"label\").isNotNull())\n",
    "df = df.dropna(subset=['label', 'text', 'funny', 'cool',\"useful\"])\n",
    "df.show()\n",
    "df.printSchema()\n",
    "\n",
    "df = df.select('text', 'label')\n",
    "df.show()\n",
    "\n",
    "df = df.filter(df.label.isin(2.0,4.0))\n",
    "df.show()\n",
    "\n",
    "df = df.limit(1000)\n",
    "df.show()"
   ]
  },
  {
   "cell_type": "code",
   "execution_count": 7,
   "metadata": {},
   "outputs": [
    {
     "name": "stderr",
     "output_type": "stream",
     "text": [
      "[Stage 12:======================================================> (28 + 1) / 29]\r"
     ]
    },
    {
     "name": "stdout",
     "output_type": "stream",
     "text": [
      "23/04/09 23:12:21 WARN DAGScheduler: Broadcasting large task binary with size 4.1 MiB\n"
     ]
    },
    {
     "name": "stderr",
     "output_type": "stream",
     "text": [
      "                                                                                \r"
     ]
    },
    {
     "name": "stdout",
     "output_type": "stream",
     "text": [
      "23/04/09 23:12:22 WARN InstanceBuilder$JavaBLAS: Failed to load implementation from:dev.ludovic.netlib.blas.VectorBLAS\n",
      "23/04/09 23:12:22 WARN DAGScheduler: Broadcasting large task binary with size 4.1 MiB\n",
      "23/04/09 23:12:22 WARN InstanceBuilder$NativeBLAS: Failed to load implementation from:dev.ludovic.netlib.blas.JNIBLAS\n",
      "23/04/09 23:12:22 WARN InstanceBuilder$NativeBLAS: Failed to load implementation from:dev.ludovic.netlib.blas.ForeignLinkerBLAS\n",
      "23/04/09 23:12:23 WARN BLAS: Failed to load implementation from: com.github.fommil.netlib.NativeSystemBLAS\n",
      "23/04/09 23:12:23 WARN BLAS: Failed to load implementation from: com.github.fommil.netlib.NativeRefBLAS\n",
      "23/04/09 23:12:23 WARN DAGScheduler: Broadcasting large task binary with size 4.1 MiB\n",
      "23/04/09 23:12:23 WARN DAGScheduler: Broadcasting large task binary with size 4.1 MiB\n",
      "23/04/09 23:12:24 WARN DAGScheduler: Broadcasting large task binary with size 4.1 MiB\n",
      "23/04/09 23:12:25 WARN DAGScheduler: Broadcasting large task binary with size 4.1 MiB\n",
      "23/04/09 23:12:25 WARN DAGScheduler: Broadcasting large task binary with size 4.1 MiB\n",
      "23/04/09 23:12:25 WARN DAGScheduler: Broadcasting large task binary with size 4.1 MiB\n",
      "23/04/09 23:12:26 WARN DAGScheduler: Broadcasting large task binary with size 4.1 MiB\n",
      "23/04/09 23:12:26 WARN DAGScheduler: Broadcasting large task binary with size 4.1 MiB\n",
      "23/04/09 23:12:27 WARN DAGScheduler: Broadcasting large task binary with size 4.1 MiB\n",
      "23/04/09 23:12:28 WARN DAGScheduler: Broadcasting large task binary with size 4.1 MiB\n"
     ]
    },
    {
     "name": "stderr",
     "output_type": "stream",
     "text": [
      "[Stage 38:====================================================>   (27 + 2) / 29]\r"
     ]
    },
    {
     "name": "stdout",
     "output_type": "stream",
     "text": [
      "23/04/09 23:12:32 WARN DAGScheduler: Broadcasting large task binary with size 4.6 MiB\n",
      "Comment: \"Ah yes, Finish Line at West Towne Mall... I have to give this store a lower rating now because it used to be a nice size with lots of different styles of shoes. Now they down sized GREATLY and now they have an inferior selection. The staff, lazy... Everytime I have come in there looking for a pair of shoes I will have to stand by the cashiers desk just for them to notice that I need something. And even then they will give me a rhetorical question like 'did you need a size\"\" or they would be so enveloped in their cell phone that they wouldn't even notice I was there... I can't say much about this place except it was kept tidy looking.\"\n",
      "Predicted rating: 2.0\n",
      "\n",
      "Comment: \"Came here again for a business dinner. We ordered the \"\"Daughter\"\" all in one menu (#3)\n",
      "Predicted rating: 4.0\n",
      "\n",
      "Comment: \"Came here with my mother, husband and baby for brunch\\/lunch. We were all quite happy with our choice. I think I was the \"\"winner\"\" by ordering the french toast. It was practically half a loaf of bread\n",
      "Predicted rating: 4.0\n",
      "\n",
      "Comment: \"Eek... I went in to ship a package on Dec. 21st for Dec. 24th delivery. Yeah... I know... A bit last minute but still within the delivery windows. I took a 5.5 lb package to UPS and asked for a quote. The man working the counter told me it would $131 to ship to package and an additional $4.95 for packaging. I expressed surprise at the amount and he curtly added \"\"that must be the price of a one-way plane ticket.\"\" Well... actually... that's pretty close. I said thank you and took my package to the Post Office\n",
      "Predicted rating: 2.0\n",
      "\n",
      "Comment: \"First of all, I'm pretty sure this place is closed. Not just closed but no longer in business. I drove by recently and saw the signs in the window \"\"For Lease\"\". Based on my last experience at Luke's\n",
      "Predicted rating: 2.0\n",
      "\n",
      "Comment: \"Going to boost them up because the \"\"Eggs Bubba\"\" was spot-on (with some added salt and pepper).  Biscuits (basic)\n",
      "Predicted rating: 4.0\n",
      "\n",
      "Comment: \"HUGE MARTINIS! Yes it's pricy, however this is the place you go to on a special evening and is perhaps the \"\"classiest\"\" place to dine in Surprise.\"\n",
      "Predicted rating: 4.0\n",
      "\n",
      "Comment: \"Holy hell. How is this Vig so much better than the other one? After visiting for the first time yesterday, I was angry at myself for waiting so long to make it there. Did you think The Vig could get any sexier? Well it can. It's called The Vig Uptown. When it was freezing ass cold outside yesterday and I was in my jacket, hat, scarf and sweater, the \"\"outdoor\"\" area was a dream come true. The fire and a cup of coffee was the perfect ending. As always the staff is great\n",
      "Predicted rating: 4.0\n",
      "\n",
      "Comment: \"Hrm, I've never really enjoyed a meal at Tamarind. I've had the lunch buffet a couple of times (seemed like the same lame stuff both times) and have ordered dinner from the menu on several occasions. Nothing has ever seemed very fresh and I've not experienced any serious spice here. The tamarind sauce (which you'd think would be their specialty), in addition to all of their condiments, taste generic rather than scratch-made. The dinner entrees come with a side of veggies or dal, and I swear they just give you leftovers from the lunch buffet. For example, I got a side consisting of crusty looking peas and carrots with random stuff dropped in; a lentil and a piece of cauliflower stalk. The rice also seemed reminiscent of buffet recycling measures. I hate to think of food getting wasted, but I'd go dumpster diving before paying $11 for food that most restaurants would either throw away for fear of contamination, or at least freshen up to make their parsimony less obvious. My Baingan Bhartha, a totally mild \"\"10\n",
      "Predicted rating: 2.0\n",
      "\n",
      "Comment: \"I did a 30 day trail here just looking for something to kickstart me into a fitness routine. I was a really good experience, by the time my trial was up I knew about 5 people that were doing trials too just based off of what we said. It is a very intense 90min, and sometimes while in there you think \"\"why am I doing this\"\" but you are always glad you came because you do feel refreshed. The instructors are all pretty great and they can play some cool music sometimes.\"\n",
      "Predicted rating: 4.0\n",
      "\n"
     ]
    },
    {
     "name": "stderr",
     "output_type": "stream",
     "text": [
      "                                                                                \r"
     ]
    }
   ],
   "source": [
    "\n",
    "# Split the data into training and testing sets\n",
    "(training_data, test_data) = df.randomSplit([0.7, 0.3], seed=1000)\n",
    "\n",
    "# Define the ML pipeline\n",
    "tokenizer = Tokenizer(inputCol=\"text\", outputCol=\"words\")\n",
    "TF = HashingTF(inputCol=tokenizer.getOutputCol(), outputCol=\"tfFeatures\")\n",
    "idf = IDF(inputCol=\"tfFeatures\", outputCol=\"features\")\n",
    "lr = LogisticRegression(maxIter=10, regParam=0.001)\n",
    "pipeline = Pipeline(stages=[tokenizer, TF, idf, lr])\n",
    "\n",
    "# Train the model on the training data\n",
    "model = pipeline.fit(training_data)\n",
    "\n",
    "# Use the model to predict the labels of the first 10 comments in the test data\n",
    "test_comments = test_data.select(\"text\").limit(10)\n",
    "predictions = model.transform(test_comments)\n",
    "\n",
    "# Print the predictions\n",
    "for row in predictions.collect():\n",
    "    text, prediction = row[\"text\"], row[\"prediction\"]\n",
    "    print(f\"Comment: {text}\\nPredicted rating: {prediction}\\n\")\n"
   ]
  },
  {
   "cell_type": "code",
   "execution_count": 3,
   "metadata": {},
   "outputs": [
    {
     "name": "stderr",
     "output_type": "stream",
     "text": [
      "[Stage 12:================================================>       (25 + 4) / 29]\r"
     ]
    },
    {
     "name": "stdout",
     "output_type": "stream",
     "text": [
      "23/04/09 21:27:17 WARN DAGScheduler: Broadcasting large task binary with size 4.1 MiB\n"
     ]
    },
    {
     "name": "stderr",
     "output_type": "stream",
     "text": [
      "                                                                                \r"
     ]
    },
    {
     "name": "stdout",
     "output_type": "stream",
     "text": [
      "23/04/09 21:27:18 WARN InstanceBuilder$JavaBLAS: Failed to load implementation from:dev.ludovic.netlib.blas.VectorBLAS\n",
      "23/04/09 21:27:18 WARN DAGScheduler: Broadcasting large task binary with size 4.1 MiB\n",
      "23/04/09 21:27:18 WARN InstanceBuilder$NativeBLAS: Failed to load implementation from:dev.ludovic.netlib.blas.JNIBLAS\n",
      "23/04/09 21:27:18 WARN InstanceBuilder$NativeBLAS: Failed to load implementation from:dev.ludovic.netlib.blas.ForeignLinkerBLAS\n"
     ]
    },
    {
     "name": "stderr",
     "output_type": "stream",
     "text": [
      "                                                                                \r"
     ]
    },
    {
     "name": "stdout",
     "output_type": "stream",
     "text": [
      "23/04/09 21:27:20 WARN BLAS: Failed to load implementation from: com.github.fommil.netlib.NativeSystemBLAS\n",
      "23/04/09 21:27:20 WARN BLAS: Failed to load implementation from: com.github.fommil.netlib.NativeRefBLAS\n",
      "23/04/09 21:27:20 WARN DAGScheduler: Broadcasting large task binary with size 4.1 MiB\n",
      "23/04/09 21:27:20 WARN DAGScheduler: Broadcasting large task binary with size 4.1 MiB\n",
      "23/04/09 21:27:21 WARN DAGScheduler: Broadcasting large task binary with size 4.1 MiB\n",
      "23/04/09 21:27:21 WARN DAGScheduler: Broadcasting large task binary with size 4.1 MiB\n",
      "23/04/09 21:27:22 WARN DAGScheduler: Broadcasting large task binary with size 4.1 MiB\n",
      "23/04/09 21:27:22 WARN DAGScheduler: Broadcasting large task binary with size 4.1 MiB\n",
      "23/04/09 21:27:23 WARN DAGScheduler: Broadcasting large task binary with size 4.1 MiB\n",
      "23/04/09 21:27:23 WARN DAGScheduler: Broadcasting large task binary with size 4.1 MiB\n",
      "23/04/09 21:27:24 WARN DAGScheduler: Broadcasting large task binary with size 4.1 MiB\n",
      "23/04/09 21:27:24 WARN DAGScheduler: Broadcasting large task binary with size 4.1 MiB\n",
      "23/04/09 21:27:25 WARN DAGScheduler: Broadcasting large task binary with size 4.1 MiB\n"
     ]
    },
    {
     "name": "stderr",
     "output_type": "stream",
     "text": [
      "[Stage 39:====================================================>   (27 + 2) / 29]\r"
     ]
    }
   ],
   "source": [
    "#2 ML pipeline\n",
    "#train data\n",
    "(training_data, test_data) = df.randomSplit([0.7, 0.3], seed=1000)\n",
    "\n",
    "tokenizer = Tokenizer(inputCol=\"text\", outputCol=\"words\")\n",
    "TF = HashingTF(inputCol=tokenizer.getOutputCol(), outputCol=\"tfFeatures\")\n",
    "idf = IDF(inputCol=\"tfFeatures\", outputCol=\"features\")\n",
    "lr = LogisticRegression(maxIter=10, regParam=0.001)\n",
    "pipeline = Pipeline(stages=[tokenizer, TF, idf, lr])\n",
    "\n",
    "# Train the model on the training data\n",
    "model = pipeline.fit(training_data)"
   ]
  },
  {
   "cell_type": "code",
   "execution_count": 8,
   "metadata": {},
   "outputs": [
    {
     "name": "stderr",
     "output_type": "stream",
     "text": [
      "[Stage 41:================================================>       (25 + 4) / 29]\r"
     ]
    },
    {
     "name": "stdout",
     "output_type": "stream",
     "text": [
      "23/04/09 23:14:51 WARN DAGScheduler: Broadcasting large task binary with size 4.6 MiB\n",
      "Comment: \"Ah yes, Finish Line at West Towne Mall... I have to give this store a lower rating now because it used to be a nice size with lots of different styles of shoes. Now they down sized GREATLY and now they have an inferior selection. The staff, lazy... Everytime I have come in there looking for a pair of shoes I will have to stand by the cashiers desk just for them to notice that I need something. And even then they will give me a rhetorical question like 'did you need a size\"\" or they would be so enveloped in their cell phone that they wouldn't even notice I was there... I can't say much about this place except it was kept tidy looking.\"\n",
      "Predicted rating: 2.0\n",
      "\n",
      "Comment: \"Came here again for a business dinner. We ordered the \"\"Daughter\"\" all in one menu (#3)\n",
      "Predicted rating: 4.0\n",
      "\n",
      "Comment: \"Came here with my mother, husband and baby for brunch\\/lunch. We were all quite happy with our choice. I think I was the \"\"winner\"\" by ordering the french toast. It was practically half a loaf of bread\n",
      "Predicted rating: 4.0\n",
      "\n",
      "Comment: \"Eek... I went in to ship a package on Dec. 21st for Dec. 24th delivery. Yeah... I know... A bit last minute but still within the delivery windows. I took a 5.5 lb package to UPS and asked for a quote. The man working the counter told me it would $131 to ship to package and an additional $4.95 for packaging. I expressed surprise at the amount and he curtly added \"\"that must be the price of a one-way plane ticket.\"\" Well... actually... that's pretty close. I said thank you and took my package to the Post Office\n",
      "Predicted rating: 2.0\n",
      "\n",
      "Comment: \"First of all, I'm pretty sure this place is closed. Not just closed but no longer in business. I drove by recently and saw the signs in the window \"\"For Lease\"\". Based on my last experience at Luke's\n",
      "Predicted rating: 2.0\n",
      "\n",
      "Comment: \"Going to boost them up because the \"\"Eggs Bubba\"\" was spot-on (with some added salt and pepper).  Biscuits (basic)\n",
      "Predicted rating: 4.0\n",
      "\n",
      "Comment: \"HUGE MARTINIS! Yes it's pricy, however this is the place you go to on a special evening and is perhaps the \"\"classiest\"\" place to dine in Surprise.\"\n",
      "Predicted rating: 4.0\n",
      "\n",
      "Comment: \"Holy hell. How is this Vig so much better than the other one? After visiting for the first time yesterday, I was angry at myself for waiting so long to make it there. Did you think The Vig could get any sexier? Well it can. It's called The Vig Uptown. When it was freezing ass cold outside yesterday and I was in my jacket, hat, scarf and sweater, the \"\"outdoor\"\" area was a dream come true. The fire and a cup of coffee was the perfect ending. As always the staff is great\n",
      "Predicted rating: 4.0\n",
      "\n",
      "Comment: \"Hrm, I've never really enjoyed a meal at Tamarind. I've had the lunch buffet a couple of times (seemed like the same lame stuff both times) and have ordered dinner from the menu on several occasions. Nothing has ever seemed very fresh and I've not experienced any serious spice here. The tamarind sauce (which you'd think would be their specialty), in addition to all of their condiments, taste generic rather than scratch-made. The dinner entrees come with a side of veggies or dal, and I swear they just give you leftovers from the lunch buffet. For example, I got a side consisting of crusty looking peas and carrots with random stuff dropped in; a lentil and a piece of cauliflower stalk. The rice also seemed reminiscent of buffet recycling measures. I hate to think of food getting wasted, but I'd go dumpster diving before paying $11 for food that most restaurants would either throw away for fear of contamination, or at least freshen up to make their parsimony less obvious. My Baingan Bhartha, a totally mild \"\"10\n",
      "Predicted rating: 2.0\n",
      "\n",
      "Comment: \"I did a 30 day trail here just looking for something to kickstart me into a fitness routine. I was a really good experience, by the time my trial was up I knew about 5 people that were doing trials too just based off of what we said. It is a very intense 90min, and sometimes while in there you think \"\"why am I doing this\"\" but you are always glad you came because you do feel refreshed. The instructors are all pretty great and they can play some cool music sometimes.\"\n",
      "Predicted rating: 4.0\n",
      "\n"
     ]
    },
    {
     "name": "stderr",
     "output_type": "stream",
     "text": [
      "                                                                                \r"
     ]
    }
   ],
   "source": [
    "#####################################\n",
    "#3. Test data set, unlabeled text, your code here:\n",
    "test_comments = test_data.select(\"text\").limit(10)\n",
    "\n",
    "#4. Make Prediction\n",
    "prediction = model.transform(test_comments)\n",
    "\n",
    "# Print the predictions\n",
    "for row in prediction.collect():\n",
    "    text, predictions = row[\"text\"], row[\"prediction\"]\n",
    "    print(f\"Comment: {text}\\nPredicted rating: {predictions}\\n\")\n",
    "\n",
    "#####################################"
   ]
  }
 ],
 "metadata": {
  "kernelspec": {
   "display_name": "Python 3",
   "language": "python",
   "name": "python3"
  },
  "language_info": {
   "codemirror_mode": {
    "name": "ipython",
    "version": 3
   },
   "file_extension": ".py",
   "mimetype": "text/x-python",
   "name": "python",
   "nbconvert_exporter": "python",
   "pygments_lexer": "ipython3",
   "version": "3.10.9"
  },
  "orig_nbformat": 4
 },
 "nbformat": 4,
 "nbformat_minor": 2
}
