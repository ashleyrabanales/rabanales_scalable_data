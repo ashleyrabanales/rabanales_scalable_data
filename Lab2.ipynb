{
 "cells": [
  {
   "cell_type": "code",
   "execution_count": 1,
   "metadata": {},
   "outputs": [
    {
     "name": "stdout",
     "output_type": "stream",
     "text": [
      "[('A', 38), ('B', 36), ('C', 66)]\n",
      "[('C', 66)]\n"
     ]
    }
   ],
   "source": [
    "birth_year = [(\"A\", 1978), (\"B\",1980),(\"C\",1950)]\n",
    "age_list = []\n",
    "#year = 2016\n",
    "for y in birth_year:\n",
    "    yearold = 2016 - y[1]\n",
    "    age_list.append((y[0],yearold))\n",
    "print(age_list)\n",
    "senior = []\n",
    "#senior>60\n",
    "for y in age_list:\n",
    "    if y[1] > 60:\n",
    "        senior.append(y)\n",
    "print(senior)"
   ]
  },
  {
   "cell_type": "code",
   "execution_count": 2,
   "metadata": {},
   "outputs": [
    {
     "name": "stdout",
     "output_type": "stream",
     "text": [
      "[('A', 38), ('B', 36), ('C', 66)]\n",
      "[('C', 66)]\n"
     ]
    }
   ],
   "source": [
    "birth_year = [(\"A\", 1978), (\"B\",1980),(\"C\",1950)]\n",
    "def age_transform(y):\n",
    "    return (y[0],2016-y[1])\n",
    "age = map(age_transform,birth_year)\n",
    "age_list = list(age)\n",
    "print(age_list)\n",
    "def age_filter(y):\n",
    "    return y[1]>60\n",
    "senior = filter(age_filter,age_list)\n",
    "print(list(senior))"
   ]
  },
  {
   "cell_type": "code",
   "execution_count": 1,
   "metadata": {},
   "outputs": [
    {
     "name": "stdout",
     "output_type": "stream",
     "text": [
      "[('A', 1978), ('B', 1980), ('C', 1950)]\n",
      "[('A', 38), ('B', 36), ('C', 66)]\n",
      "[('C', 66)]\n"
     ]
    }
   ],
   "source": [
    "birth_year = [(\"A\", 1978), (\"B\",1980),(\"C\",1950)]\n",
    "print(birth_year)\n",
    "age = map(lambda y:(y[0],2016-y[1]),birth_year)\n",
    "\n",
    "age_list = list(age)\n",
    "print(age_list)\n",
    "\n",
    "senior = filter(lambda y:y[1]>60,age_list)\n",
    "\n",
    "print(list(senior))"
   ]
  },
  {
   "cell_type": "code",
   "execution_count": 1,
   "metadata": {},
   "outputs": [
    {
     "data": {
      "text/plain": [
       "3"
      ]
     },
     "execution_count": 1,
     "metadata": {},
     "output_type": "execute_result"
    }
   ],
   "source": [
    "from functools import reduce\n",
    "def sum_fun(x,y):\n",
    "        return x+y\n",
    "reduce(sum_fun,[1,1,1])"
   ]
  },
  {
   "cell_type": "code",
   "execution_count": 5,
   "metadata": {},
   "outputs": [
    {
     "data": {
      "text/plain": [
       "10"
      ]
     },
     "execution_count": 5,
     "metadata": {},
     "output_type": "execute_result"
    }
   ],
   "source": [
    "from functools import reduce\n",
    "reduce(lambda x,y:x+y,[1,2,3,4])"
   ]
  },
  {
   "cell_type": "code",
   "execution_count": null,
   "metadata": {},
   "outputs": [],
   "source": []
  }
 ],
 "metadata": {
  "kernelspec": {
   "display_name": "Python 3",
   "language": "python",
   "name": "python3"
  },
  "language_info": {
   "codemirror_mode": {
    "name": "ipython",
    "version": 3
   },
   "file_extension": ".py",
   "mimetype": "text/x-python",
   "name": "python",
   "nbconvert_exporter": "python",
   "pygments_lexer": "ipython3",
   "version": "3.7.4"
  }
 },
 "nbformat": 4,
 "nbformat_minor": 2
}
